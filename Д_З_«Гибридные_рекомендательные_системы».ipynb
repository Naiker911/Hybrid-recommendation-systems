{
  "nbformat": 4,
  "nbformat_minor": 0,
  "metadata": {
    "colab": {
      "provenance": [],
      "authorship_tag": "ABX9TyM2pUQD+fxbZ7w22Z0sDWQS",
      "include_colab_link": true
    },
    "kernelspec": {
      "name": "python3",
      "display_name": "Python 3"
    },
    "language_info": {
      "name": "python"
    }
  },
  "cells": [
    {
      "cell_type": "markdown",
      "metadata": {
        "id": "view-in-github",
        "colab_type": "text"
      },
      "source": [
        "<a href=\"https://colab.research.google.com/github/Naiker911/Hybrid-recommendation-systems/blob/main/%D0%94_%D0%97_%C2%AB%D0%93%D0%B8%D0%B1%D1%80%D0%B8%D0%B4%D0%BD%D1%8B%D0%B5_%D1%80%D0%B5%D0%BA%D0%BE%D0%BC%D0%B5%D0%BD%D0%B4%D0%B0%D1%82%D0%B5%D0%BB%D1%8C%D0%BD%D1%8B%D0%B5_%D1%81%D0%B8%D1%81%D1%82%D0%B5%D0%BC%D1%8B%C2%BB.ipynb\" target=\"_parent\"><img src=\"https://colab.research.google.com/assets/colab-badge.svg\" alt=\"Open In Colab\"/></a>"
      ]
    },
    {
      "cell_type": "markdown",
      "source": [
        "Задание:\n",
        "\n",
        "1. Датасет ml-latest\n",
        "2. Вспомнить подходы, которые мы разбирали\n",
        "3. Выбрать понравившийся подход к гибридным системам\n",
        "4. Написать свою"
      ],
      "metadata": {
        "id": "J9BMVxQEUd0l"
      }
    },
    {
      "cell_type": "code",
      "source": [
        "!pip install lightfm"
      ],
      "metadata": {
        "colab": {
          "base_uri": "https://localhost:8080/"
        },
        "id": "GU1gL_IHVZB5",
        "outputId": "2f94f70d-586b-4c02-fec3-bbdd15fe764a"
      },
      "execution_count": null,
      "outputs": [
        {
          "output_type": "stream",
          "name": "stdout",
          "text": [
            "Looking in indexes: https://pypi.org/simple, https://us-python.pkg.dev/colab-wheels/public/simple/\n",
            "Collecting lightfm\n",
            "  Downloading lightfm-1.17.tar.gz (316 kB)\n",
            "\u001b[2K     \u001b[90m━━━━━━━━━━━━━━━━━━━━━━━━━━━━━━━━━━━━━━\u001b[0m \u001b[32m316.4/316.4 kB\u001b[0m \u001b[31m11.8 MB/s\u001b[0m eta \u001b[36m0:00:00\u001b[0m\n",
            "\u001b[?25h  Preparing metadata (setup.py) ... \u001b[?25l\u001b[?25hdone\n",
            "Requirement already satisfied: numpy in /usr/local/lib/python3.10/dist-packages (from lightfm) (1.22.4)\n",
            "Requirement already satisfied: scipy>=0.17.0 in /usr/local/lib/python3.10/dist-packages (from lightfm) (1.10.1)\n",
            "Requirement already satisfied: requests in /usr/local/lib/python3.10/dist-packages (from lightfm) (2.27.1)\n",
            "Requirement already satisfied: scikit-learn in /usr/local/lib/python3.10/dist-packages (from lightfm) (1.2.2)\n",
            "Requirement already satisfied: urllib3<1.27,>=1.21.1 in /usr/local/lib/python3.10/dist-packages (from requests->lightfm) (1.26.15)\n",
            "Requirement already satisfied: certifi>=2017.4.17 in /usr/local/lib/python3.10/dist-packages (from requests->lightfm) (2022.12.7)\n",
            "Requirement already satisfied: charset-normalizer~=2.0.0 in /usr/local/lib/python3.10/dist-packages (from requests->lightfm) (2.0.12)\n",
            "Requirement already satisfied: idna<4,>=2.5 in /usr/local/lib/python3.10/dist-packages (from requests->lightfm) (3.4)\n",
            "Requirement already satisfied: joblib>=1.1.1 in /usr/local/lib/python3.10/dist-packages (from scikit-learn->lightfm) (1.2.0)\n",
            "Requirement already satisfied: threadpoolctl>=2.0.0 in /usr/local/lib/python3.10/dist-packages (from scikit-learn->lightfm) (3.1.0)\n",
            "Building wheels for collected packages: lightfm\n",
            "  Building wheel for lightfm (setup.py) ... \u001b[?25l\u001b[?25hdone\n",
            "  Created wheel for lightfm: filename=lightfm-1.17-cp310-cp310-linux_x86_64.whl size=879174 sha256=432a66ef0c777080d7db38d132aa47d1cfa83a001d8bfef3c09cf510f4afc014\n",
            "  Stored in directory: /root/.cache/pip/wheels/4f/9b/7e/0b256f2168511d8fa4dae4fae0200fdbd729eb424a912ad636\n",
            "Successfully built lightfm\n",
            "Installing collected packages: lightfm\n",
            "Successfully installed lightfm-1.17\n"
          ]
        }
      ]
    },
    {
      "cell_type": "code",
      "source": [
        "!pip install surprise"
      ],
      "metadata": {
        "colab": {
          "base_uri": "https://localhost:8080/"
        },
        "id": "6_p-TGMRWEHX",
        "outputId": "b20302b0-1e76-4a43-c407-5e449de3894a"
      },
      "execution_count": null,
      "outputs": [
        {
          "output_type": "stream",
          "name": "stdout",
          "text": [
            "Looking in indexes: https://pypi.org/simple, https://us-python.pkg.dev/colab-wheels/public/simple/\n",
            "Collecting surprise\n",
            "  Downloading surprise-0.1-py2.py3-none-any.whl (1.8 kB)\n",
            "Collecting scikit-surprise (from surprise)\n",
            "  Downloading scikit-surprise-1.1.3.tar.gz (771 kB)\n",
            "\u001b[2K     \u001b[90m━━━━━━━━━━━━━━━━━━━━━━━━━━━━━━━━━━━━━━\u001b[0m \u001b[32m772.0/772.0 kB\u001b[0m \u001b[31m20.2 MB/s\u001b[0m eta \u001b[36m0:00:00\u001b[0m\n",
            "\u001b[?25h  Preparing metadata (setup.py) ... \u001b[?25l\u001b[?25hdone\n",
            "Requirement already satisfied: joblib>=1.0.0 in /usr/local/lib/python3.10/dist-packages (from scikit-surprise->surprise) (1.2.0)\n",
            "Requirement already satisfied: numpy>=1.17.3 in /usr/local/lib/python3.10/dist-packages (from scikit-surprise->surprise) (1.22.4)\n",
            "Requirement already satisfied: scipy>=1.3.2 in /usr/local/lib/python3.10/dist-packages (from scikit-surprise->surprise) (1.10.1)\n",
            "Building wheels for collected packages: scikit-surprise\n",
            "  Building wheel for scikit-surprise (setup.py) ... \u001b[?25l\u001b[?25hdone\n",
            "  Created wheel for scikit-surprise: filename=scikit_surprise-1.1.3-cp310-cp310-linux_x86_64.whl size=3095408 sha256=b01501ef37779e5dcc191de4d93bb4b5f7a2b47ceb2d162e011f80f9cc335e9a\n",
            "  Stored in directory: /root/.cache/pip/wheels/a5/ca/a8/4e28def53797fdc4363ca4af740db15a9c2f1595ebc51fb445\n",
            "Successfully built scikit-surprise\n",
            "Installing collected packages: scikit-surprise, surprise\n",
            "Successfully installed scikit-surprise-1.1.3 surprise-0.1\n"
          ]
        }
      ]
    },
    {
      "cell_type": "code",
      "execution_count": null,
      "metadata": {
        "id": "4uYLNPQ0UVQD"
      },
      "outputs": [],
      "source": [
        "from surprise import SVD\n",
        "from surprise import Dataset\n",
        "from surprise import accuracy\n",
        "from surprise import Reader\n",
        "from surprise.model_selection import train_test_split\n",
        "\n",
        "import matplotlib.pyplot as plt\n",
        "from tqdm.notebook import tqdm\n",
        "\n",
        "from sklearn.feature_extraction.text import TfidfVectorizer\n",
        "from sklearn.neighbors import NearestNeighbors\n",
        "\n",
        "import pandas as pd\n",
        "import numpy as np"
      ]
    },
    {
      "cell_type": "code",
      "source": [
        "!wget 'https://drive.google.com/uc?id=1m0rwReR09achL0xTM6QPoN4tykz5bOMx' -O MovieLens.zip"
      ],
      "metadata": {
        "colab": {
          "base_uri": "https://localhost:8080/"
        },
        "id": "hfVp_FvBVoNr",
        "outputId": "16ed2b70-e889-4b98-dcad-1c4effae92e0"
      },
      "execution_count": null,
      "outputs": [
        {
          "output_type": "stream",
          "name": "stdout",
          "text": [
            "--2023-06-22 09:06:55--  https://drive.google.com/uc?id=1m0rwReR09achL0xTM6QPoN4tykz5bOMx\n",
            "Resolving drive.google.com (drive.google.com)... 142.251.31.100, 142.251.31.113, 142.251.31.139, ...\n",
            "Connecting to drive.google.com (drive.google.com)|142.251.31.100|:443... connected.\n",
            "HTTP request sent, awaiting response... 303 See Other\n",
            "Location: https://doc-0g-84-docs.googleusercontent.com/docs/securesc/ha0ro937gcuc7l7deffksulhg5h7mbp1/ur32214ft251cdi5t8u2qtmdrpnu2h7d/1687424775000/02611596255248067438/*/1m0rwReR09achL0xTM6QPoN4tykz5bOMx?uuid=0cac890b-e75b-45c0-856e-de2240aa3a57 [following]\n",
            "Warning: wildcards not supported in HTTP.\n",
            "--2023-06-22 09:06:56--  https://doc-0g-84-docs.googleusercontent.com/docs/securesc/ha0ro937gcuc7l7deffksulhg5h7mbp1/ur32214ft251cdi5t8u2qtmdrpnu2h7d/1687424775000/02611596255248067438/*/1m0rwReR09achL0xTM6QPoN4tykz5bOMx?uuid=0cac890b-e75b-45c0-856e-de2240aa3a57\n",
            "Resolving doc-0g-84-docs.googleusercontent.com (doc-0g-84-docs.googleusercontent.com)... 108.177.126.132, 2a00:1450:4013:c01::84\n",
            "Connecting to doc-0g-84-docs.googleusercontent.com (doc-0g-84-docs.googleusercontent.com)|108.177.126.132|:443... connected.\n",
            "HTTP request sent, awaiting response... 200 OK\n",
            "Length: 847695 (828K) [application/zip]\n",
            "Saving to: ‘MovieLens.zip’\n",
            "\n",
            "MovieLens.zip       100%[===================>] 827.83K  --.-KB/s    in 0.01s   \n",
            "\n",
            "2023-06-22 09:06:56 (71.7 MB/s) - ‘MovieLens.zip’ saved [847695/847695]\n",
            "\n"
          ]
        }
      ]
    },
    {
      "cell_type": "code",
      "source": [
        "!unzip MovieLens.zip"
      ],
      "metadata": {
        "colab": {
          "base_uri": "https://localhost:8080/"
        },
        "id": "IdqAm7xOWXOr",
        "outputId": "d88ae00a-6d57-4b2a-f797-77a3295039a9"
      },
      "execution_count": null,
      "outputs": [
        {
          "output_type": "stream",
          "name": "stdout",
          "text": [
            "Archive:  MovieLens.zip\n",
            "  inflating: links.csv               \n",
            "  inflating: movies.csv              \n",
            "  inflating: ratings.csv             \n",
            "  inflating: tags.csv                \n"
          ]
        }
      ]
    },
    {
      "cell_type": "code",
      "source": [
        "links = pd.read_csv('links.csv')\n",
        "movies = pd.read_csv('movies.csv')\n",
        "ratings = pd.read_csv('ratings.csv')\n",
        "tags = pd.read_csv('tags.csv')"
      ],
      "metadata": {
        "id": "z_kpwWFOWhfY"
      },
      "execution_count": null,
      "outputs": []
    },
    {
      "cell_type": "code",
      "source": [
        "movies_with_ratings = movies.merge(ratings, on='movieId').reset_index(drop=True)\n",
        "movies_with_ratings.dropna(inplace=True)\n",
        "movies_with_ratings.head()"
      ],
      "metadata": {
        "colab": {
          "base_uri": "https://localhost:8080/",
          "height": 206
        },
        "id": "YenAtEObWl__",
        "outputId": "282b17eb-acb6-4782-c3df-f8ea4d07db3f"
      },
      "execution_count": null,
      "outputs": [
        {
          "output_type": "execute_result",
          "data": {
            "text/plain": [
              "   movieId             title                                       genres  \\\n",
              "0        1  Toy Story (1995)  Adventure|Animation|Children|Comedy|Fantasy   \n",
              "1        1  Toy Story (1995)  Adventure|Animation|Children|Comedy|Fantasy   \n",
              "2        1  Toy Story (1995)  Adventure|Animation|Children|Comedy|Fantasy   \n",
              "3        1  Toy Story (1995)  Adventure|Animation|Children|Comedy|Fantasy   \n",
              "4        1  Toy Story (1995)  Adventure|Animation|Children|Comedy|Fantasy   \n",
              "\n",
              "   userId  rating   timestamp  \n",
              "0       1     4.0   964982703  \n",
              "1       5     4.0   847434962  \n",
              "2       7     4.5  1106635946  \n",
              "3      15     2.5  1510577970  \n",
              "4      17     4.5  1305696483  "
            ],
            "text/html": [
              "\n",
              "  <div id=\"df-62e7c4ac-ae2c-4216-96cd-a8cac47f52c3\">\n",
              "    <div class=\"colab-df-container\">\n",
              "      <div>\n",
              "<style scoped>\n",
              "    .dataframe tbody tr th:only-of-type {\n",
              "        vertical-align: middle;\n",
              "    }\n",
              "\n",
              "    .dataframe tbody tr th {\n",
              "        vertical-align: top;\n",
              "    }\n",
              "\n",
              "    .dataframe thead th {\n",
              "        text-align: right;\n",
              "    }\n",
              "</style>\n",
              "<table border=\"1\" class=\"dataframe\">\n",
              "  <thead>\n",
              "    <tr style=\"text-align: right;\">\n",
              "      <th></th>\n",
              "      <th>movieId</th>\n",
              "      <th>title</th>\n",
              "      <th>genres</th>\n",
              "      <th>userId</th>\n",
              "      <th>rating</th>\n",
              "      <th>timestamp</th>\n",
              "    </tr>\n",
              "  </thead>\n",
              "  <tbody>\n",
              "    <tr>\n",
              "      <th>0</th>\n",
              "      <td>1</td>\n",
              "      <td>Toy Story (1995)</td>\n",
              "      <td>Adventure|Animation|Children|Comedy|Fantasy</td>\n",
              "      <td>1</td>\n",
              "      <td>4.0</td>\n",
              "      <td>964982703</td>\n",
              "    </tr>\n",
              "    <tr>\n",
              "      <th>1</th>\n",
              "      <td>1</td>\n",
              "      <td>Toy Story (1995)</td>\n",
              "      <td>Adventure|Animation|Children|Comedy|Fantasy</td>\n",
              "      <td>5</td>\n",
              "      <td>4.0</td>\n",
              "      <td>847434962</td>\n",
              "    </tr>\n",
              "    <tr>\n",
              "      <th>2</th>\n",
              "      <td>1</td>\n",
              "      <td>Toy Story (1995)</td>\n",
              "      <td>Adventure|Animation|Children|Comedy|Fantasy</td>\n",
              "      <td>7</td>\n",
              "      <td>4.5</td>\n",
              "      <td>1106635946</td>\n",
              "    </tr>\n",
              "    <tr>\n",
              "      <th>3</th>\n",
              "      <td>1</td>\n",
              "      <td>Toy Story (1995)</td>\n",
              "      <td>Adventure|Animation|Children|Comedy|Fantasy</td>\n",
              "      <td>15</td>\n",
              "      <td>2.5</td>\n",
              "      <td>1510577970</td>\n",
              "    </tr>\n",
              "    <tr>\n",
              "      <th>4</th>\n",
              "      <td>1</td>\n",
              "      <td>Toy Story (1995)</td>\n",
              "      <td>Adventure|Animation|Children|Comedy|Fantasy</td>\n",
              "      <td>17</td>\n",
              "      <td>4.5</td>\n",
              "      <td>1305696483</td>\n",
              "    </tr>\n",
              "  </tbody>\n",
              "</table>\n",
              "</div>\n",
              "      <button class=\"colab-df-convert\" onclick=\"convertToInteractive('df-62e7c4ac-ae2c-4216-96cd-a8cac47f52c3')\"\n",
              "              title=\"Convert this dataframe to an interactive table.\"\n",
              "              style=\"display:none;\">\n",
              "        \n",
              "  <svg xmlns=\"http://www.w3.org/2000/svg\" height=\"24px\"viewBox=\"0 0 24 24\"\n",
              "       width=\"24px\">\n",
              "    <path d=\"M0 0h24v24H0V0z\" fill=\"none\"/>\n",
              "    <path d=\"M18.56 5.44l.94 2.06.94-2.06 2.06-.94-2.06-.94-.94-2.06-.94 2.06-2.06.94zm-11 1L8.5 8.5l.94-2.06 2.06-.94-2.06-.94L8.5 2.5l-.94 2.06-2.06.94zm10 10l.94 2.06.94-2.06 2.06-.94-2.06-.94-.94-2.06-.94 2.06-2.06.94z\"/><path d=\"M17.41 7.96l-1.37-1.37c-.4-.4-.92-.59-1.43-.59-.52 0-1.04.2-1.43.59L10.3 9.45l-7.72 7.72c-.78.78-.78 2.05 0 2.83L4 21.41c.39.39.9.59 1.41.59.51 0 1.02-.2 1.41-.59l7.78-7.78 2.81-2.81c.8-.78.8-2.07 0-2.86zM5.41 20L4 18.59l7.72-7.72 1.47 1.35L5.41 20z\"/>\n",
              "  </svg>\n",
              "      </button>\n",
              "      \n",
              "  <style>\n",
              "    .colab-df-container {\n",
              "      display:flex;\n",
              "      flex-wrap:wrap;\n",
              "      gap: 12px;\n",
              "    }\n",
              "\n",
              "    .colab-df-convert {\n",
              "      background-color: #E8F0FE;\n",
              "      border: none;\n",
              "      border-radius: 50%;\n",
              "      cursor: pointer;\n",
              "      display: none;\n",
              "      fill: #1967D2;\n",
              "      height: 32px;\n",
              "      padding: 0 0 0 0;\n",
              "      width: 32px;\n",
              "    }\n",
              "\n",
              "    .colab-df-convert:hover {\n",
              "      background-color: #E2EBFA;\n",
              "      box-shadow: 0px 1px 2px rgba(60, 64, 67, 0.3), 0px 1px 3px 1px rgba(60, 64, 67, 0.15);\n",
              "      fill: #174EA6;\n",
              "    }\n",
              "\n",
              "    [theme=dark] .colab-df-convert {\n",
              "      background-color: #3B4455;\n",
              "      fill: #D2E3FC;\n",
              "    }\n",
              "\n",
              "    [theme=dark] .colab-df-convert:hover {\n",
              "      background-color: #434B5C;\n",
              "      box-shadow: 0px 1px 3px 1px rgba(0, 0, 0, 0.15);\n",
              "      filter: drop-shadow(0px 1px 2px rgba(0, 0, 0, 0.3));\n",
              "      fill: #FFFFFF;\n",
              "    }\n",
              "  </style>\n",
              "\n",
              "      <script>\n",
              "        const buttonEl =\n",
              "          document.querySelector('#df-62e7c4ac-ae2c-4216-96cd-a8cac47f52c3 button.colab-df-convert');\n",
              "        buttonEl.style.display =\n",
              "          google.colab.kernel.accessAllowed ? 'block' : 'none';\n",
              "\n",
              "        async function convertToInteractive(key) {\n",
              "          const element = document.querySelector('#df-62e7c4ac-ae2c-4216-96cd-a8cac47f52c3');\n",
              "          const dataTable =\n",
              "            await google.colab.kernel.invokeFunction('convertToInteractive',\n",
              "                                                     [key], {});\n",
              "          if (!dataTable) return;\n",
              "\n",
              "          const docLinkHtml = 'Like what you see? Visit the ' +\n",
              "            '<a target=\"_blank\" href=https://colab.research.google.com/notebooks/data_table.ipynb>data table notebook</a>'\n",
              "            + ' to learn more about interactive tables.';\n",
              "          element.innerHTML = '';\n",
              "          dataTable['output_type'] = 'display_data';\n",
              "          await google.colab.output.renderOutput(dataTable, element);\n",
              "          const docLink = document.createElement('div');\n",
              "          docLink.innerHTML = docLinkHtml;\n",
              "          element.appendChild(docLink);\n",
              "        }\n",
              "      </script>\n",
              "    </div>\n",
              "  </div>\n",
              "  "
            ]
          },
          "metadata": {},
          "execution_count": 10
        }
      ]
    },
    {
      "cell_type": "code",
      "source": [
        "dataset = pd.DataFrame({\n",
        "    'uid': movies_with_ratings.userId,\n",
        "    'iid': movies_with_ratings.title,\n",
        "    'rating': movies_with_ratings.rating\n",
        "})"
      ],
      "metadata": {
        "id": "v18wEYZxWyWn"
      },
      "execution_count": null,
      "outputs": []
    },
    {
      "cell_type": "code",
      "source": [
        "reader = Reader(rating_scale=(ratings.rating.min(), ratings.rating.max()))\n",
        "data = Dataset.load_from_df(dataset, reader)"
      ],
      "metadata": {
        "id": "1jIkq00gW0MK"
      },
      "execution_count": null,
      "outputs": []
    },
    {
      "cell_type": "code",
      "source": [
        "trainset, testset = train_test_split(data, test_size=0.2, random_state=21)"
      ],
      "metadata": {
        "id": "9hm_puSYW0JR"
      },
      "execution_count": null,
      "outputs": []
    },
    {
      "cell_type": "markdown",
      "source": [
        "Обучение RecSys из библиотеки surprise\n",
        "\n",
        "В качестве модели выбрана SVD библиотеки surprise: пожертвуем немного качеством модели по сравнению с SVDpp, но кратно сократим время."
      ],
      "metadata": {
        "id": "97kAYPg5XDv_"
      }
    },
    {
      "cell_type": "code",
      "source": [
        "svd = SVD(n_factors=100, n_epochs=50, lr_all=0.01, reg_all=0.08, random_state=21)\n",
        "svd.fit(trainset)"
      ],
      "metadata": {
        "colab": {
          "base_uri": "https://localhost:8080/"
        },
        "id": "eos0WA2kXKti",
        "outputId": "012b7ae0-538c-46aa-cd3e-c0b828aea7ea"
      },
      "execution_count": null,
      "outputs": [
        {
          "output_type": "execute_result",
          "data": {
            "text/plain": [
              "<surprise.prediction_algorithms.matrix_factorization.SVD at 0x7f0aa4362320>"
            ]
          },
          "metadata": {},
          "execution_count": 14
        }
      ]
    },
    {
      "cell_type": "code",
      "source": [
        "predictions = svd.test(testset)\n",
        "accur_score = accuracy.rmse(predictions, verbose=True)"
      ],
      "metadata": {
        "colab": {
          "base_uri": "https://localhost:8080/"
        },
        "id": "-f99IxXaXSo2",
        "outputId": "bd01c994-6d7f-4a79-d94a-c25dd36f6b8f"
      },
      "execution_count": null,
      "outputs": [
        {
          "output_type": "stream",
          "name": "stdout",
          "text": [
            "RMSE: 0.8519\n"
          ]
        }
      ]
    },
    {
      "cell_type": "code",
      "source": [
        "def get_recommend(user_id):\n",
        "    'Предоставление рекомендаций фильмов по userID'\n",
        "    user_movies = movies_with_ratings[movies_with_ratings.userId == user_id].title.unique()\n",
        "    scores = []\n",
        "    titles = []\n",
        "    for movie in movies_with_ratings.title.unique():\n",
        "        if movie in user_movies:\n",
        "            continue\n",
        "\n",
        "        scores.append(svd.predict(uid=user_id, iid=movie).est)\n",
        "        titles.append(movie)\n",
        "    titles = np.array(titles)\n",
        "    return titles[np.argsort(-np.array(scores))[:10]]"
      ],
      "metadata": {
        "id": "VuTL_ZWkXZK6"
      },
      "execution_count": null,
      "outputs": []
    },
    {
      "cell_type": "code",
      "source": [
        "userId = 36\n",
        "print(f'Для пользователя с ID {userId} рекомендуются следующие фильмы:')\n",
        "print('--------------')\n",
        "print(*get_recommend(userId), sep='\\n')"
      ],
      "metadata": {
        "colab": {
          "base_uri": "https://localhost:8080/"
        },
        "id": "BlltH0slXfPc",
        "outputId": "87f7c1ae-131f-44ea-d475-78b4a42a1245"
      },
      "execution_count": null,
      "outputs": [
        {
          "output_type": "stream",
          "name": "stdout",
          "text": [
            "Для пользователя с ID 36 рекомендуются следующие фильмы:\n",
            "--------------\n",
            "Neon Genesis Evangelion: The End of Evangelion (Shin seiki Evangelion Gekijô-ban: Air/Magokoro wo, kimi ni) (1997)\n",
            "Celebration, The (Festen) (1998)\n",
            "Godfather, The (1972)\n",
            "Bad Boy Bubby (1993)\n",
            "The Artist (2011)\n",
            "Goodfellas (1990)\n",
            "Paths of Glory (1957)\n",
            "Wristcutters: A Love Story (2006)\n",
            "Black Mirror: White Christmas (2014)\n",
            "Mean Streets (1973)\n"
          ]
        }
      ]
    },
    {
      "cell_type": "markdown",
      "source": [
        "Обучение RecSys на основе content-based с применением TF-IDF\n",
        "\n",
        "В качестве модели content-based модель с применением TF-IDF к признаку genre. Рекомендации посчитаем с помощью метода NearestNeighbors."
      ],
      "metadata": {
        "id": "0xVLXtKBXpSs"
      }
    },
    {
      "cell_type": "code",
      "source": [
        "from sklearn.feature_extraction.text import CountVectorizer, TfidfTransformer, TfidfVectorizer\n",
        "from sklearn.metrics import mean_squared_error\n",
        "from sklearn.neighbors import NearestNeighbors\n",
        "from sklearn.preprocessing import LabelEncoder\n",
        "\n",
        "from scipy.sparse import coo_matrix\n",
        "\n",
        "from surprise import accuracy\n",
        "from surprise import SVD\n",
        "from surprise import Dataset\n",
        "from surprise import Reader\n",
        "from surprise.model_selection import train_test_split\n",
        "from surprise.model_selection import GridSearchCV"
      ],
      "metadata": {
        "id": "dy5d9SCvZog3"
      },
      "execution_count": null,
      "outputs": []
    },
    {
      "cell_type": "code",
      "source": [
        "def get_X_y(data):\n",
        "    tfidf = TfidfVectorizer()\n",
        "    data['genres'] = data['genres'].apply(lambda val: val.replace('|', ' '))\n",
        "    X = pd.DataFrame(tfidf.fit_transform(data['genres']).toarray(),\n",
        "                       columns=tfidf.get_feature_names_out()).reset_index(drop=True)\n",
        "    return X, data['rating']"
      ],
      "metadata": {
        "id": "QrnJ5MZuXsjX"
      },
      "execution_count": null,
      "outputs": []
    },
    {
      "cell_type": "code",
      "source": [
        "def change_string(s):\n",
        "    return ' '.join(s.replace(' ', '').replace('-', '').split('|'))"
      ],
      "metadata": {
        "id": "u9ztOWxyXw5d"
      },
      "execution_count": null,
      "outputs": []
    },
    {
      "cell_type": "code",
      "source": [
        "movie_genres = [change_string(g) for g in movies.genres.values]"
      ],
      "metadata": {
        "id": "gr14Ou42X1L-"
      },
      "execution_count": null,
      "outputs": []
    },
    {
      "cell_type": "code",
      "source": [
        "count_vect = CountVectorizer()\n",
        "X_train_counts = count_vect.fit_transform(movie_genres)\n",
        "\n",
        "tfidf_transformer = TfidfTransformer()\n",
        "X_train_tfidf = tfidf_transformer.fit_transform(X_train_counts)\n",
        "\n",
        "neigh = NearestNeighbors(n_neighbors=20, n_jobs=-1, metric='euclidean')\n",
        "neigh.fit(X_train_tfidf)"
      ],
      "metadata": {
        "colab": {
          "base_uri": "https://localhost:8080/",
          "height": 75
        },
        "id": "mg32CCr-X5vk",
        "outputId": "6938c2de-4c46-4616-c788-b65c7b2dc562"
      },
      "execution_count": null,
      "outputs": [
        {
          "output_type": "execute_result",
          "data": {
            "text/plain": [
              "NearestNeighbors(metric='euclidean', n_jobs=-1, n_neighbors=20)"
            ],
            "text/html": [
              "<style>#sk-container-id-1 {color: black;background-color: white;}#sk-container-id-1 pre{padding: 0;}#sk-container-id-1 div.sk-toggleable {background-color: white;}#sk-container-id-1 label.sk-toggleable__label {cursor: pointer;display: block;width: 100%;margin-bottom: 0;padding: 0.3em;box-sizing: border-box;text-align: center;}#sk-container-id-1 label.sk-toggleable__label-arrow:before {content: \"▸\";float: left;margin-right: 0.25em;color: #696969;}#sk-container-id-1 label.sk-toggleable__label-arrow:hover:before {color: black;}#sk-container-id-1 div.sk-estimator:hover label.sk-toggleable__label-arrow:before {color: black;}#sk-container-id-1 div.sk-toggleable__content {max-height: 0;max-width: 0;overflow: hidden;text-align: left;background-color: #f0f8ff;}#sk-container-id-1 div.sk-toggleable__content pre {margin: 0.2em;color: black;border-radius: 0.25em;background-color: #f0f8ff;}#sk-container-id-1 input.sk-toggleable__control:checked~div.sk-toggleable__content {max-height: 200px;max-width: 100%;overflow: auto;}#sk-container-id-1 input.sk-toggleable__control:checked~label.sk-toggleable__label-arrow:before {content: \"▾\";}#sk-container-id-1 div.sk-estimator input.sk-toggleable__control:checked~label.sk-toggleable__label {background-color: #d4ebff;}#sk-container-id-1 div.sk-label input.sk-toggleable__control:checked~label.sk-toggleable__label {background-color: #d4ebff;}#sk-container-id-1 input.sk-hidden--visually {border: 0;clip: rect(1px 1px 1px 1px);clip: rect(1px, 1px, 1px, 1px);height: 1px;margin: -1px;overflow: hidden;padding: 0;position: absolute;width: 1px;}#sk-container-id-1 div.sk-estimator {font-family: monospace;background-color: #f0f8ff;border: 1px dotted black;border-radius: 0.25em;box-sizing: border-box;margin-bottom: 0.5em;}#sk-container-id-1 div.sk-estimator:hover {background-color: #d4ebff;}#sk-container-id-1 div.sk-parallel-item::after {content: \"\";width: 100%;border-bottom: 1px solid gray;flex-grow: 1;}#sk-container-id-1 div.sk-label:hover label.sk-toggleable__label {background-color: #d4ebff;}#sk-container-id-1 div.sk-serial::before {content: \"\";position: absolute;border-left: 1px solid gray;box-sizing: border-box;top: 0;bottom: 0;left: 50%;z-index: 0;}#sk-container-id-1 div.sk-serial {display: flex;flex-direction: column;align-items: center;background-color: white;padding-right: 0.2em;padding-left: 0.2em;position: relative;}#sk-container-id-1 div.sk-item {position: relative;z-index: 1;}#sk-container-id-1 div.sk-parallel {display: flex;align-items: stretch;justify-content: center;background-color: white;position: relative;}#sk-container-id-1 div.sk-item::before, #sk-container-id-1 div.sk-parallel-item::before {content: \"\";position: absolute;border-left: 1px solid gray;box-sizing: border-box;top: 0;bottom: 0;left: 50%;z-index: -1;}#sk-container-id-1 div.sk-parallel-item {display: flex;flex-direction: column;z-index: 1;position: relative;background-color: white;}#sk-container-id-1 div.sk-parallel-item:first-child::after {align-self: flex-end;width: 50%;}#sk-container-id-1 div.sk-parallel-item:last-child::after {align-self: flex-start;width: 50%;}#sk-container-id-1 div.sk-parallel-item:only-child::after {width: 0;}#sk-container-id-1 div.sk-dashed-wrapped {border: 1px dashed gray;margin: 0 0.4em 0.5em 0.4em;box-sizing: border-box;padding-bottom: 0.4em;background-color: white;}#sk-container-id-1 div.sk-label label {font-family: monospace;font-weight: bold;display: inline-block;line-height: 1.2em;}#sk-container-id-1 div.sk-label-container {text-align: center;}#sk-container-id-1 div.sk-container {/* jupyter's `normalize.less` sets `[hidden] { display: none; }` but bootstrap.min.css set `[hidden] { display: none !important; }` so we also need the `!important` here to be able to override the default hidden behavior on the sphinx rendered scikit-learn.org. See: https://github.com/scikit-learn/scikit-learn/issues/21755 */display: inline-block !important;position: relative;}#sk-container-id-1 div.sk-text-repr-fallback {display: none;}</style><div id=\"sk-container-id-1\" class=\"sk-top-container\"><div class=\"sk-text-repr-fallback\"><pre>NearestNeighbors(metric=&#x27;euclidean&#x27;, n_jobs=-1, n_neighbors=20)</pre><b>In a Jupyter environment, please rerun this cell to show the HTML representation or trust the notebook. <br />On GitHub, the HTML representation is unable to render, please try loading this page with nbviewer.org.</b></div><div class=\"sk-container\" hidden><div class=\"sk-item\"><div class=\"sk-estimator sk-toggleable\"><input class=\"sk-toggleable__control sk-hidden--visually\" id=\"sk-estimator-id-1\" type=\"checkbox\" checked><label for=\"sk-estimator-id-1\" class=\"sk-toggleable__label sk-toggleable__label-arrow\">NearestNeighbors</label><div class=\"sk-toggleable__content\"><pre>NearestNeighbors(metric=&#x27;euclidean&#x27;, n_jobs=-1, n_neighbors=20)</pre></div></div></div></div></div>"
            ]
          },
          "metadata": {},
          "execution_count": 24
        }
      ]
    },
    {
      "cell_type": "markdown",
      "source": [
        "Добавим дополнительный признак для фильмов: их средний рейтинг. После подбора похожих фильмов, отсортируем их по более рейтинговым"
      ],
      "metadata": {
        "id": "BW6veY1-Z8kN"
      }
    },
    {
      "cell_type": "code",
      "source": [
        "mean_movie_rating = movies_with_ratings.groupby('movieId')['rating'].mean()\n",
        "movies_with_ratings['mean_movie_rating'] = movies_with_ratings['movieId'].apply(lambda x: mean_movie_rating[x])"
      ],
      "metadata": {
        "id": "x1EmgLsUZ-P2"
      },
      "execution_count": null,
      "outputs": []
    },
    {
      "cell_type": "code",
      "source": [
        "def get_rec_by_genres(genres):\n",
        "    predict = count_vect.transform([genres])\n",
        "    X_tfidf2 = tfidf_transformer.transform(predict)\n",
        "    res = neigh.kneighbors(X_tfidf2, return_distance=True)\n",
        "    return np.array(movies_with_ratings.iloc[res[1][0]].sort_values(by=['mean_movie_rating'], ascending=False)['title'].unique()[:10])"
      ],
      "metadata": {
        "id": "-RrMnYaHaE9K"
      },
      "execution_count": null,
      "outputs": []
    },
    {
      "cell_type": "code",
      "source": [
        "genres = 'Adventure Comedy Fantasy Crime'\n",
        "print(f'По жанрам \"{genres}\" рекомендуются следующие фильмы:')\n",
        "print('--------------')\n",
        "print(*get_rec_by_genres(genres), sep='\\n')"
      ],
      "metadata": {
        "colab": {
          "base_uri": "https://localhost:8080/"
        },
        "id": "uAh44YEkaKW7",
        "outputId": "a04bd14e-0639-4cab-8dc5-2740dae4087b"
      },
      "execution_count": null,
      "outputs": [
        {
          "output_type": "stream",
          "name": "stdout",
          "text": [
            "По жанрам \"Adventure Comedy Fantasy Crime\" рекомендуются следующие фильмы:\n",
            "--------------\n",
            "Pulp Fiction (1994)\n",
            "Braveheart (1995)\n",
            "Three Colors: White (Trzy kolory: Bialy) (1994)\n",
            "Seven (a.k.a. Se7en) (1995)\n",
            "Antonia's Line (Antonia) (1995)\n",
            "Bullets Over Broadway (1994)\n",
            "Disclosure (1994)\n",
            "Mighty Aphrodite (1995)\n",
            "Interview with the Vampire: The Vampire Chronicles (1994)\n",
            "Happy Gilmore (1996)\n"
          ]
        }
      ]
    },
    {
      "cell_type": "markdown",
      "source": [
        "Гибридная RecSys\n",
        "\n",
        "Объединяет в себе рекомендательную систему на основе content-based и SVD библиотеки surprise"
      ],
      "metadata": {
        "id": "u4wLA8U_aWXa"
      }
    },
    {
      "cell_type": "code",
      "source": [
        "movies_with_ratings.sort_values('timestamp', inplace=True)"
      ],
      "metadata": {
        "id": "4k_j5dd2aRTW"
      },
      "execution_count": null,
      "outputs": []
    },
    {
      "cell_type": "code",
      "source": [
        "title_genres = {}\n",
        "\n",
        "for index, row in movies.iterrows():\n",
        "    title_genres[row.title] = row.genres"
      ],
      "metadata": {
        "id": "gDJGaVjEahpU"
      },
      "execution_count": null,
      "outputs": []
    },
    {
      "cell_type": "code",
      "source": [
        "def recommend_for_user_by_genre(user_id):\n",
        "    user_movies = movies_with_ratings[movies_with_ratings.userId == user_id].title.unique()\n",
        "\n",
        "    last_user_movie = user_movies[-1]\n",
        "\n",
        "    movie_genres = title_genres[last_user_movie]\n",
        "\n",
        "    movie_genres = change_string(movie_genres)\n",
        "\n",
        "    predict = count_vect.transform([movie_genres])\n",
        "\n",
        "    X_tfidf2 = tfidf_transformer.transform(predict)\n",
        "\n",
        "    res = neigh.kneighbors(X_tfidf2, return_distance=True)\n",
        "\n",
        "    movies_to_score = movies.iloc[res[1][0]].title.values\n",
        "\n",
        "    scores = []\n",
        "    titles = []\n",
        "\n",
        "    for movie in movies_to_score:\n",
        "        if movie in user_movies:\n",
        "            continue\n",
        "\n",
        "        scores.append(svd.predict(uid=user_id, iid=movie).est)\n",
        "        titles.append(movie)\n",
        "\n",
        "    best_indexes = np.argsort(scores)[10:]\n",
        "\n",
        "    for i in reversed(best_indexes):\n",
        "        print(titles[i], scores[i])"
      ],
      "metadata": {
        "id": "866vFOTyal8k"
      },
      "execution_count": null,
      "outputs": []
    },
    {
      "cell_type": "code",
      "source": [
        "userId = 36\n",
        "print(f'Для пользователя с ID {userId} рекомендуются следующие фильмы:')\n",
        "print('--------------')\n",
        "recommend_for_user_by_genre(userId)"
      ],
      "metadata": {
        "colab": {
          "base_uri": "https://localhost:8080/"
        },
        "id": "OTzZ19n1auZC",
        "outputId": "58c4c4ee-e522-492e-efb1-ed679857369d"
      },
      "execution_count": null,
      "outputs": [
        {
          "output_type": "stream",
          "name": "stdout",
          "text": [
            "Для пользователя с ID 36 рекомендуются следующие фильмы:\n",
            "--------------\n",
            "Godfather, The (1972) 3.9065630536696836\n",
            "Goodfellas (1990) 3.8388909757441\n",
            "Godfather: Part II, The (1974) 3.69341504201646\n",
            "Heavenly Creatures (1994) 3.495484104803821\n",
            "Bonnie and Clyde (1967) 3.395729024775608\n",
            "Hate (Haine, La) (1995) 3.3675678590832083\n",
            "Jason's Lyric (1994) 3.318962708680239\n",
            "Once Upon a Time in America (1984) 3.2939734661859155\n",
            "Casino (1995) 3.2906532028543394\n"
          ]
        }
      ]
    },
    {
      "cell_type": "markdown",
      "source": [
        "RecSys на основе библиотеки Lightfm"
      ],
      "metadata": {
        "id": "LS-i1Up4a7ew"
      }
    },
    {
      "cell_type": "code",
      "source": [
        "from lightfm import LightFM\n",
        "import lightfm.data as light\n",
        "from lightfm.evaluation import precision_at_k\n",
        "from lightfm.evaluation import auc_score"
      ],
      "metadata": {
        "id": "lZ1UGjsab-T8"
      },
      "execution_count": null,
      "outputs": []
    },
    {
      "cell_type": "code",
      "source": [
        "def create_rate_matrix(df, shuffle = True, split_ratio = 0.8):\n",
        "    '''\n",
        "    Split the Pandas DataFrame into train and test according to the split_ratio.\n",
        "    INPUT:\n",
        "      - df: Pandas DataFrame of interaction data, including user id, product id, and rate.\n",
        "      - shuffle: boolean, whether to randomly shuffle the dataframe before splitting\n",
        "      - split_ratio: the ratio of train and test\n",
        "    OUTPUT:\n",
        "      - rate_matrix: a dictionary, keys ['train', 'test'], value is coo_matrix of the same shape\n",
        "    '''\n",
        "    if shuffle:\n",
        "        df = df.sample(frac = 1).reset_index(drop = True)\n",
        "    split_point = np.int(np.round(df.shape[0] * split_ratio))\n",
        "    df_train = df.iloc[0:split_point]\n",
        "    df_test = df.iloc[split_point::]\n",
        "    df_test = df_test[(df_test['userId'].isin(df_train['userId']))&\\\n",
        "                     (df_test['movieId'].isin(df_train['movieId']))]\n",
        "\n",
        "    print('Train dataset size is %d, test dataset size is %d'\n",
        "          % (len(df_train), len(df_test)))\n",
        "\n",
        "    id_cols = ['userId', 'movieId']\n",
        "    trans_cat_train = dict()\n",
        "    trans_cat_test = dict()\n",
        "\n",
        "    encoder = dict()\n",
        "    for k in id_cols:\n",
        "        le = LabelEncoder()\n",
        "        trans_cat_train[k] = le.fit_transform(df_train[k].values)\n",
        "        trans_cat_test[k] = le.transform(df_test[k].values)\n",
        "        encoder[k] = le\n",
        "\n",
        "    trans_cat_train['rating'] = df_train['rating']\n",
        "    trans_cat_test['rating'] = df_test['rating']\n",
        "\n",
        "    users = np.unique(trans_cat_train['userId'])\n",
        "    items = np.unique(trans_cat_train['movieId'])\n",
        "    n_users = len(users)\n",
        "    n_items = len(items)\n",
        "    print('There are %d users and %d products in dataset.'\n",
        "          % (n_users, n_items))\n",
        "\n",
        "    rate_matrix = dict()\n",
        "    rate_matrix['train'] = coo_matrix((trans_cat_train['rating'],\n",
        "                                       (trans_cat_train['userId'],\n",
        "                                        trans_cat_train['movieId'])),\n",
        "                                      shape = (n_users, n_items))\n",
        "\n",
        "    rate_matrix['test'] = coo_matrix((trans_cat_test['rating'],\n",
        "                                      (trans_cat_test['userId'],\n",
        "                                       trans_cat_test['movieId'])),\n",
        "                                     shape = (n_users, n_items))\n",
        "\n",
        "    return rate_matrix, users, items, encoder"
      ],
      "metadata": {
        "id": "AGSaoh7ya-Zy"
      },
      "execution_count": null,
      "outputs": []
    },
    {
      "cell_type": "code",
      "source": [
        "rating_matrix, users, items, encoder_dict = create_rate_matrix(ratings)"
      ],
      "metadata": {
        "colab": {
          "base_uri": "https://localhost:8080/"
        },
        "id": "4kKjUQuNbFdq",
        "outputId": "5d0fbdcb-1ae3-4aac-df7e-09c989f89e33"
      },
      "execution_count": null,
      "outputs": [
        {
          "output_type": "stream",
          "name": "stdout",
          "text": [
            "Train dataset size is 80669, test dataset size is 19317\n",
            "There are 610 users and 8951 products in dataset.\n"
          ]
        },
        {
          "output_type": "stream",
          "name": "stderr",
          "text": [
            "<ipython-input-32-34e61254fc8a>:13: DeprecationWarning: `np.int` is a deprecated alias for the builtin `int`. To silence this warning, use `int` by itself. Doing this will not modify any behavior and is safe. When replacing `np.int`, you may wish to use e.g. `np.int64` or `np.int32` to specify the precision. If you wish to review your current use, check the release note link for additional information.\n",
            "Deprecated in NumPy 1.20; for more details and guidance: https://numpy.org/devdocs/release/1.20.0-notes.html#deprecations\n",
            "  split_point = np.int(np.round(df.shape[0] * split_ratio))\n"
          ]
        }
      ]
    },
    {
      "cell_type": "code",
      "source": [
        "tfidf = TfidfVectorizer()\n",
        "movie_train_tfidf = tfidf.fit_transform(movie_genres)\n",
        "movie_train_tfidf = pd.DataFrame(movie_train_tfidf.toarray(), columns=tfidf.get_feature_names_out())\n",
        "movies = movies.drop(columns=['genres'])\n",
        "movies = pd.concat([movies, movie_train_tfidf], axis=1)"
      ],
      "metadata": {
        "id": "gRW2kYIcbMS4"
      },
      "execution_count": null,
      "outputs": []
    },
    {
      "cell_type": "code",
      "source": [
        "movies['movieId'] = movies['movieId'].apply(lambda x:\n",
        "                                                      'other' if x not in encoder_dict['movieId'].classes_\n",
        "                                                      else x)\n",
        "\n",
        "movies = movies[movies['movieId'] != 'other']\n",
        "movies['movieId'] = encoder_dict['movieId'].transform(movies['movieId'].values)"
      ],
      "metadata": {
        "colab": {
          "base_uri": "https://localhost:8080/"
        },
        "id": "mklR1m01bWc_",
        "outputId": "4faaca18-9658-4a85-a1c7-0f545a1d0a5e"
      },
      "execution_count": null,
      "outputs": [
        {
          "output_type": "stream",
          "name": "stderr",
          "text": [
            "<ipython-input-35-0388b0d6620c>:6: SettingWithCopyWarning: \n",
            "A value is trying to be set on a copy of a slice from a DataFrame.\n",
            "Try using .loc[row_indexer,col_indexer] = value instead\n",
            "\n",
            "See the caveats in the documentation: https://pandas.pydata.org/pandas-docs/stable/user_guide/indexing.html#returning-a-view-versus-a-copy\n",
            "  movies['movieId'] = encoder_dict['movieId'].transform(movies['movieId'].values)\n"
          ]
        }
      ]
    },
    {
      "cell_type": "code",
      "source": [
        "columns = movies.columns.to_list()\n",
        "columns.remove('movieId')"
      ],
      "metadata": {
        "id": "B06NOifObZ7_"
      },
      "execution_count": null,
      "outputs": []
    },
    {
      "cell_type": "code",
      "source": [
        "def generate_feature_list(df, columns):\n",
        "    '''\n",
        "    Generate the list of features of corresponding columns to list\n",
        "    In order to fit the lightdm Dataset\n",
        "    '''\n",
        "    features = df[columns].apply(\n",
        "        lambda x: ','.join(x.map(str)), axis = 1)\n",
        "    features = features.str.split(',')\n",
        "    features = features.apply(pd.Series).stack().reset_index(drop = True)\n",
        "    return features"
      ],
      "metadata": {
        "id": "an9wzJw2bgg_"
      },
      "execution_count": null,
      "outputs": []
    },
    {
      "cell_type": "code",
      "source": [
        "def prepare_item_features(df, columns, id_col_name):\n",
        "    '''\n",
        "    Prepare the corresponding feature formats for\n",
        "    the lightdm.dataset's build_item_features function\n",
        "    '''\n",
        "    features = df[columns].apply(\n",
        "            lambda x: ','.join(x.map(str)), axis = 1)\n",
        "    features = features.str.split(',')\n",
        "    features = list(zip(df[id_col_name], features))\n",
        "    return features"
      ],
      "metadata": {
        "id": "WAOt9-OSbocx"
      },
      "execution_count": null,
      "outputs": []
    },
    {
      "cell_type": "code",
      "source": [
        "dataset = light.Dataset()\n",
        "fitting_item_features = generate_feature_list(movies, columns)\n",
        "lightdm_features = prepare_item_features(movies, columns, 'movieId')\n",
        "\n",
        "dataset.fit(users, items, item_features = fitting_item_features)\n",
        "item_feature = dataset.build_item_features(lightdm_features,\n",
        "                                            normalize = True)"
      ],
      "metadata": {
        "id": "_cS9KqfRbss0"
      },
      "execution_count": null,
      "outputs": []
    },
    {
      "cell_type": "code",
      "source": [
        "model = LightFM()\n",
        "model.fit(rating_matrix['train'], epochs=10)\n",
        "\n",
        "train_precision = precision_at_k(model, rating_matrix['train'], k=10).mean()\n",
        "test_precision = precision_at_k(model, rating_matrix['test'], k=10, train_interactions=rating_matrix['train']).mean()\n",
        "\n",
        "print('Precision: train %.2f, test %.2f.' % (train_precision, test_precision))"
      ],
      "metadata": {
        "colab": {
          "base_uri": "https://localhost:8080/"
        },
        "id": "-Z9SFWFocWGg",
        "outputId": "6f7796bd-3c52-4c18-f81b-e48fb2c20e5c"
      },
      "execution_count": null,
      "outputs": [
        {
          "output_type": "stream",
          "name": "stdout",
          "text": [
            "Precision: train 0.36, test 0.16.\n"
          ]
        }
      ]
    },
    {
      "cell_type": "code",
      "source": [
        "movies_title = np.array(movies['title'])\n",
        "movies_title"
      ],
      "metadata": {
        "colab": {
          "base_uri": "https://localhost:8080/"
        },
        "id": "aBZnyUE0cbbS",
        "outputId": "d6d35c90-c07c-4db0-e3d7-54dc04770fbe"
      },
      "execution_count": null,
      "outputs": [
        {
          "output_type": "execute_result",
          "data": {
            "text/plain": [
              "array(['Toy Story (1995)', 'Jumanji (1995)', 'Grumpier Old Men (1995)',\n",
              "       ..., 'Black Butler: Book of the Atlantic (2017)',\n",
              "       'No Game No Life: Zero (2017)', 'Flint (2017)'], dtype=object)"
            ]
          },
          "metadata": {},
          "execution_count": 43
        }
      ]
    },
    {
      "cell_type": "code",
      "source": [
        "def sample_recommendation(model, data, user_ids):\n",
        "    n_users, n_items = data['train'].shape\n",
        "    for user_id in user_ids:\n",
        "        known_positives = movies_title[data['train'].tocsr()\n",
        "                          [user_id].indices]\n",
        "\n",
        "        scores = model.predict(user_id, np.arange(n_items))\n",
        "\n",
        "        top_items = movies_title[np.argsort(-scores)]\n",
        "\n",
        "        print(f'Для пользователей с ID {user_id} рекомендуются следующие фильмы:')\n",
        "        print('--------------')\n",
        "\n",
        "        for x in top_items[:10]:\n",
        "            print(\"        %s\" % x)\n",
        "        print()"
      ],
      "metadata": {
        "id": "zGTW6GyRcp9n"
      },
      "execution_count": null,
      "outputs": []
    },
    {
      "cell_type": "code",
      "source": [
        "userId = [36, 600]\n",
        "sample_recommendation(model, rating_matrix, userId)"
      ],
      "metadata": {
        "colab": {
          "base_uri": "https://localhost:8080/"
        },
        "id": "CRjezhRncr4i",
        "outputId": "c28eedf7-7565-41f4-f147-7289db776b55"
      },
      "execution_count": null,
      "outputs": [
        {
          "output_type": "stream",
          "name": "stdout",
          "text": [
            "Для пользователей с ID 36 рекомендуются следующие фильмы:\n",
            "--------------\n",
            "        Shawshank Redemption, The (1994)\n",
            "        Forrest Gump (1994)\n",
            "        Pulp Fiction (1994)\n",
            "        Silence of the Lambs, The (1991)\n",
            "        Matrix, The (1999)\n",
            "        Braveheart (1995)\n",
            "        Jurassic Park (1993)\n",
            "        Schindler's List (1993)\n",
            "        Star Wars: Episode IV - A New Hope (1977)\n",
            "        Terminator 2: Judgment Day (1991)\n",
            "\n",
            "Для пользователей с ID 600 рекомендуются следующие фильмы:\n",
            "--------------\n",
            "        Shawshank Redemption, The (1994)\n",
            "        Forrest Gump (1994)\n",
            "        Pulp Fiction (1994)\n",
            "        Silence of the Lambs, The (1991)\n",
            "        Matrix, The (1999)\n",
            "        Braveheart (1995)\n",
            "        Jurassic Park (1993)\n",
            "        Schindler's List (1993)\n",
            "        Star Wars: Episode IV - A New Hope (1977)\n",
            "        Terminator 2: Judgment Day (1991)\n",
            "\n"
          ]
        }
      ]
    },
    {
      "cell_type": "markdown",
      "source": [
        "Вывод:\n",
        "\n",
        "В задании были построены соедующие рекомендательные модели на основе:\n",
        "\n",
        " 1. SVD библиотеки surprise\n",
        " 2. content-based с применением TF-IDF и метода NearestNeighbors\n",
        " 3. гибридной модели из двух предыдущих\n",
        " 4. библиотеки Lightfm"
      ],
      "metadata": {
        "id": "xndC6XpBc5n5"
      }
    }
  ]
}